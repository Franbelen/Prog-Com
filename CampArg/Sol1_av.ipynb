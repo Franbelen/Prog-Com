{
 "cells": [
  {
   "cell_type": "markdown",
   "metadata": {},
   "source": [
    "# The Cool Monkeys\n",
    "Dos arboles, m monos que parte en las m ramas mas altas del arbol A y quieren llegar a las m mas bajas de el arbol B saltando alternadamente y no pueden salta distancia mayor a d, dos monos nunca usan la misma rama, queremos saber si es posible bajar de esta manera.\n",
    "\n",
    "Idea: hacer flujo con las ramas y poner peso 1 asi no se puede pasar dos monos por la misma rama (?) como exploro las posibilidades"
   ]
  }
 ],
 "metadata": {
  "language_info": {
   "name": "python"
  },
  "orig_nbformat": 4
 },
 "nbformat": 4,
 "nbformat_minor": 2
}
