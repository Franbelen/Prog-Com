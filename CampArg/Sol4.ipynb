{
 "cells": [
  {
   "cell_type": "markdown",
   "metadata": {},
   "source": [
    "# Hints problemas \n",
    "\n",
    "## 4B: Hashing\n",
    "\n",
    "## 4A: 2 Tries\n",
    "\n",
    "## 4I: Grafo de estados\n",
    "\n",
    "Hay que completar el grafo, *importante* no importa el orden en que elegimos que se presenten si son conexos (si no son conexoz sobran)\n",
    "\n",
    "El problema se reduce a encontrar el subgrafo conexo, talque la clausura de vecindarios sea todos los vertices y sea minimo (en cantidad de vertices)\n",
    "\n",
    "util: \n",
    "\n",
    "- bit set para hacer conjuntos de 0 1\n",
    "- testing: Sunmit test al sacar define submit  \n",
    "\n",
    "### Bibliotecas\n",
    "- c assert: se afirma que va a pasar si no explota\n"
   ]
  }
 ],
 "metadata": {
  "language_info": {
   "name": "python"
  },
  "orig_nbformat": 4
 },
 "nbformat": 4,
 "nbformat_minor": 2
}
