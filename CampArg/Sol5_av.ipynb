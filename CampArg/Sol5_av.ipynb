{
 "cells": [
  {
   "cell_type": "markdown",
   "metadata": {},
   "source": [
    "# C Dima and Horses\n",
    "Idea: dfs tree:\n",
    "\n",
    "Arbol generado al recorrer con bfs un grafo \n",
    "\n",
    "pintar para partir en dos el grafo, cuidado con los backedg \n",
    "\n",
    "Idea 2: Guardar nodos problematicos en un set y ir cambiandole el color \n",
    "\n",
    "# G \n",
    "idea: Heavy Ligth Decompocition (HDL)\n",
    "\n",
    "Descomponer en caminos un arbol en caminos para que sea más facil \n",
    "\n",
    "# H Chessboard Billard\n",
    "\n",
    "Ver donde choca en la ultima fila y conectar esas componentes, contar la cantidad de compomponentes y esa es la cantidad de pelotas que se pueden poner sin que choquen.\n",
    "\n",
    "# I "
   ]
  }
 ],
 "metadata": {
  "language_info": {
   "name": "python"
  },
  "orig_nbformat": 4
 },
 "nbformat": 4,
 "nbformat_minor": 2
}
