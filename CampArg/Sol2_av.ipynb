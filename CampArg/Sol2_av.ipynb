{
 "cells": [
  {
   "cell_type": "markdown",
   "metadata": {},
   "source": [
    "# Hints de problemas avanzado\n",
    "\n",
    "## A\n",
    "Idea hacer un try (arbol con la información) para encontrar los prefijos comunes (recorrer el arbol hasta el prefijo q y todo el subarbol cumple tener el prefijo)\n",
    "\n",
    "Luego hay que contar cuantos de estos estan en el rango que piden [L:R] \n",
    "luego aplana el arbol y hace segmentre para buscar (?)\n",
    "\n",
    "\n",
    "## B\n",
    "\n",
    "Las filas o columnas se ordenan (en la forma optima) con filas de solo A/C y G/T\n",
    "\n",
    "\n",
    "\n",
    "## I \n",
    "\n",
    "Calcular la probabilidad que en el rango sea mayor a un numero y restar las que sea menor (?)\n",
    "\n",
    "## K Poligonos\n",
    "\n",
    "El poligono es estrictamente convexo (es convexo) y no tiene tres puntos colineales. Es necesario encontrar k maximo talque si se mueven los puntos k de distancia no deje de ser convexo (ni pierda puntos).\n",
    "\n",
    "Idea: la unica manera de romperse es cuando un punto pasa el segmento dado por los dos puntos adjacentes y como estos tambien se mueven el k debe ser el minimo de la mitad de la altura de cada uno de estos triangulitos (c:)\n",
    "\n",
    "# L \n",
    "Soluciones \n",
    "- subline\n",
    "- segment tree :\n",
    "\n",
    "Hacer segment tree con suma de las horas que esta prendida y finalente recorrer los segmentos dados buscando el minimo ya que si es 2 significa que es un segmento redundante, si todos los segmentos tienen minimo 1 no hay redundantes\n",
    "\n",
    "\n"
   ]
  },
  {
   "cell_type": "markdown",
   "metadata": {},
   "source": []
  }
 ],
 "metadata": {
  "language_info": {
   "name": "python"
  },
  "orig_nbformat": 4
 },
 "nbformat": 4,
 "nbformat_minor": 2
}
