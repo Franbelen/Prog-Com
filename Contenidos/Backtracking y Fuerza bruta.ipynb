{
 "cells": [
  {
   "attachments": {},
   "cell_type": "markdown",
   "metadata": {},
   "source": [
    "## Bactracking / DFS\n",
    "\n",
    "Deep first search, para problemas por fuerza bruta o buscar todos los casos posibles"
   ]
  },
  {
   "cell_type": "code",
   "execution_count": null,
   "metadata": {
    "vscode": {
     "languageId": "cpp"
    }
   },
   "outputs": [],
   "source": [
    "//Calcular los tamaños de los subarboles de un arbol con raiz\n",
    "\n",
    "vector<vector<int>> G;\n",
    "\n",
    "int dfs(int u, int p)\n",
    "{\n",
    "    int ans = 1;\n",
    "    for (int v : G[u])if(v != p)\n",
    "    {\n",
    "        ans += dfs(v,u);\n",
    "    }\n",
    "    return ans;\n",
    "}"
   ]
  }
 ],
 "metadata": {
  "language_info": {
   "name": "python"
  },
  "orig_nbformat": 4
 },
 "nbformat": 4,
 "nbformat_minor": 2
}
