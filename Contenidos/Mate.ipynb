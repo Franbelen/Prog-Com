{
 "cells": [
  {
   "attachments": {},
   "cell_type": "markdown",
   "metadata": {},
   "source": [
    "# Matematicas\n",
    "\n"
   ]
  },
  {
   "cell_type": "markdown",
   "metadata": {},
   "source": [
    "## Combinatoria\n",
    "\n",
    "- Calcular factoriales hasta n en O(n)\n",
    "- Calcular (n k) en O(1) (teniendo los factoriales)\n",
    "\n",
    "### Caminos en Grilla\n",
    "\n",
    "Tenemos una grilla de n x m casillas cuantos caminos hay de la esquina superior derecha a la inferior izquierda.\n",
    "\n",
    "(n-1 + m -1 / n - 1)\n",
    "\n",
    "### Separadores\n",
    "\n",
    "Tenemos n bolitas y k cajas de cuantas maneras podemos distribuirlas\n",
    "\n",
    "(n + k -1 / k -1) \n",
    "\n",
    "\n",
    "### Principio de inclusión exclusión\n",
    "\n",
    "*importante* bitsmask comparar \n",
    "\n",
    "\n"
   ]
  }
 ],
 "metadata": {
  "language_info": {
   "name": "python"
  },
  "orig_nbformat": 4
 },
 "nbformat": 4,
 "nbformat_minor": 2
}
