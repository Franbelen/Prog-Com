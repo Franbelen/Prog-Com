{
 "cells": [
  {
   "attachments": {},
   "cell_type": "markdown",
   "metadata": {},
   "source": [
    "# Grafos y algoritmos\n"
   ]
  },
  {
   "attachments": {},
   "cell_type": "markdown",
   "metadata": {},
   "source": [
    "## Representación de grafos\n",
    "\n",
    "Con lista de adyacencia o matriz de adjacencia"
   ]
  },
  {
   "attachments": {},
   "cell_type": "markdown",
   "metadata": {},
   "source": [
    "## Busqueda en grafos\n",
    "\n",
    "### BFS\n",
    "\n",
    "### DFS\n",
    "\n",
    "### Dijkstra\n",
    "\n",
    "Para encontrar el camino más corto con pesos, usa priority queue\n",
    "\n",
    "#### Bellman-ford \n",
    "Para encontrar caminos más corto incluso con peso negativos."
   ]
  },
  {
   "attachments": {},
   "cell_type": "markdown",
   "metadata": {},
   "source": [
    "## Minimun spaning tree\n",
    "\n",
    "El arbol con menor peso que genera al grafo, hay distintos algoritmos para encontrar esto:\n",
    "\n",
    "### Kruskal\n",
    "Crea componentes conexas minimales en pesos hasta unir todo.\n",
    "\n",
    "\n",
    "### Prim \n",
    "Toma una componente minimal y la hace crecer hasta cubrir todo.\n"
   ]
  },
  {
   "cell_type": "code",
   "execution_count": null,
   "metadata": {
    "vscode": {
     "languageId": "cpp"
    }
   },
   "outputs": [],
   "source": [
    "// O(n) = nlog(n)\n",
    "vector<vector<edge>> graph;\n",
    "int prim()\n",
    "{\n",
    "priority_queue<pi,vector<pi>,greater<pi>> Q;\n",
    "vector<int> key(graph.size, INT_MAX);\n",
    "vector<bool> in_tree(graph.size());\n",
    "\n",
    "key[0] = 0;\n",
    "Q.push({0,0});\n",
    "\n",
    "int mst_cost ...\n",
    "}"
   ]
  }
 ],
 "metadata": {
  "language_info": {
   "name": "python"
  },
  "orig_nbformat": 4
 },
 "nbformat": 4,
 "nbformat_minor": 2
}
