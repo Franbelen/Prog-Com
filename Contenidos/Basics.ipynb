{
 "cells": [
  {
   "attachments": {},
   "cell_type": "markdown",
   "metadata": {},
   "source": [
    "# C++ basics\n",
    "\n",
    "funciones:\n",
    "\n",
    "- .size() : da el largo de una estructura\n",
    "- .clear() : limpia, para no queues \n"
   ]
  },
  {
   "attachments": {},
   "cell_type": "markdown",
   "metadata": {},
   "source": [
    "## vectores \n",
    "\n",
    "vector<#estructura>;\n",
    "\n",
    "\n",
    "\n"
   ]
  },
  {
   "attachments": {},
   "cell_type": "markdown",
   "metadata": {},
   "source": [
    "## Stacks\n",
    "\n",
    "Ordena del primero en llegar al ultimo\n",
    "\n",
    "stack<int> S;\n",
    "\n",
    "Funciones:\n",
    "    - S.pop() : saca el ultimo\n",
    "    - S.top() : mira el ultimo "
   ]
  },
  {
   "attachments": {},
   "cell_type": "markdown",
   "metadata": {},
   "source": [
    "## Queue \n",
    "\n",
    "queue<int> Q;\n",
    "\n",
    "Funciones:\n",
    "    - .pop() : saca el primero\n",
    "    - .push() : agrega uno al final\n",
    "    - .front() : mira el primero \n",
    "\n",
    "costo O(1)\n"
   ]
  },
  {
   "attachments": {},
   "cell_type": "markdown",
   "metadata": {},
   "source": [
    "## Set , Multiset \n",
    "\n",
    "Conjunto y mantiene cosas ordenadas\n",
    "\n",
    "set<#estructura> S;\n",
    "multiset<#estructura> M;\n",
    "\n",
    "Funciones:\n",
    "   - S.insert(3); Costo O(log n) n = |S|\n",
    "   - S.erase(3); Borra el 3 si esta.\n",
    "   - M.erase(3); Borra todos los 3.\n",
    "\n",
    "- .begin()\n",
    "\n",
    "## Unordered \n",
    "\n"
   ]
  },
  {
   "attachments": {},
   "cell_type": "markdown",
   "metadata": {},
   "source": [
    "## Map\n",
    "\n",
    "map<string,int> m;\n",
    "\n",
    "settear valores:\n",
    "\n",
    "    m[\"key\"] =  valor\n",
    "\n",
    "funciones:\n",
    "    -.errase()\n",
    "    -.count()\n",
    "    "
   ]
  },
  {
   "attachments": {},
   "cell_type": "markdown",
   "metadata": {},
   "source": [
    "## Priority queue\n",
    "\n",
    "(se usa en el algoritmo de dixtra)"
   ]
  }
 ],
 "metadata": {
  "language_info": {
   "name": "python"
  },
  "orig_nbformat": 4
 },
 "nbformat": 4,
 "nbformat_minor": 2
}
