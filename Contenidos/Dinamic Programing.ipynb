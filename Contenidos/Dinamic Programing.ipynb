{
 "cells": [
  {
   "cell_type": "markdown",
   "metadata": {},
   "source": [
    "# DP\n",
    "\n",
    "Solucionar un problema recursivamente usando problemas anteriores que guardamos para no recomputar.\n",
    "\n",
    "## Subset Sum\n",
    "\n",
    "Tenemos un conhunto X con elementos x_1, ..., x_n, queremos encontrar si existe un subconjunto de estos que sume k.\n",
    "\n",
    "### SOLUCIÓN:\n",
    "\n",
    "definimos la función ss recursiva ss:\n",
    "\n"
   ]
  },
  {
   "cell_type": "markdown",
   "metadata": {},
   "source": []
  },
  {
   "cell_type": "code",
   "execution_count": null,
   "metadata": {
    "vscode": {
     "languageId": "latex"
    }
   },
   "outputs": [],
   "source": [
    "ss: \\mathbb{N}x\\mathbb{N}\n",
    "\n",
    "$ss(i,j) =$ existe un subconjunto de $\\{x_1,\\dots,x_i\\}$ \n",
    "\n",
    "ss(i,j) = \\begincases{j == 0 si i = 0\\\\ \n",
    "                    ss(i-1,j-x_i) v ss(i-1, j)}\n",
    "\n",
    "Existen dos opciones calcular todas las cosas que será O(2^n) tiempo y O() espacio;\n",
    "\n",
    "O recordar los estados ya calculados, como $0\\leq i\\leq n$  y\n",
    "$0 \\leq j \\leq k$ podemos guardar los estados en una matriz DP[n][k];\n",
    "\n",
    "\n",
    "\n",
    "\n"
   ]
  },
  {
   "cell_type": "markdown",
   "metadata": {},
   "source": [
    "## Viajante de comercio/ Delivery\n",
    "\n",
    "(Problema NP completo)\n",
    "\n",
    "Hay n depositos y un camión que parte en el deposito 1 (tienda), queremos visitar todos los depositos del 2 al n (clientes) y volver a el deposito 1 en el menor costo, conociendo el costo para visitar a i desde j para todo par.\n",
    "\n",
    "### Generalizaciones\n",
    "\n",
    "- Que exista ventana de horarios para ir a los cientes.\n",
    "\n",
    "- Tener limite de volumen y una flota de camiones\n",
    "\n",
    "### Solucion:\n",
    "\n",
    "DP"
   ]
  },
  {
   "cell_type": "markdown",
   "metadata": {},
   "source": [
    "## Ferry Loading (UVA 10261)\n",
    "\n",
    "Tenemos array de elementos ordenados que deben se separados en dos, sin pasar una capacidad maxima dada para cada uno, el problema es encontrar la mayor cantidad de elementos que puedo meter.\n",
    "\n",
    "Se tienen que sacar en orden, (por ejemplo una fila de autos que no se pueden poner al lado para dejar pasar a otros)\n",
    "\n",
    "## Problema de la mochila\n",
    "\n",
    "Queremos maximizar la ganancia sin sobrepasar el peso maximo de la mochila.\n",
    "\n",
    "## Bishops \n",
    "\n",
    "idea separar blancos y negros porque no se atacan entre si.\n",
    "\n",
    "Rotar el tablero para que las diagonales sean filas y columnas  (para no pensar en diagonales).\n",
    "\n",
    "Partir el tablero en dos."
   ]
  },
  {
   "cell_type": "markdown",
   "metadata": {},
   "source": [
    "## Datos:\n",
    "\n",
    "- Teorema: Funciones recursivas son las mismas que las funciones computables. \n",
    "\n"
   ]
  }
 ],
 "metadata": {
  "language_info": {
   "name": "python"
  },
  "orig_nbformat": 4
 },
 "nbformat": 4,
 "nbformat_minor": 2
}
