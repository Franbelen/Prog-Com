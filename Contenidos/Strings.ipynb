{
 "cells": [
  {
   "cell_type": "markdown",
   "metadata": {},
   "source": [
    "# STRINGS\n",
    "MAriano Crosetti\n",
    "## Tipos de Problemas\n",
    "### Substring\n",
    "\n",
    "### Busqueda en diccionario\n",
    "\n",
    "Se tiene un diccionario de palabras y se quiere saber cuales de una lista de palabras estan en el diccionario.\n",
    "\n",
    "## Trie\n",
    "### Encontrar prefijos \n",
    "Buscando si una palabra esta en el Trie\n",
    "## Map\n",
    "\n",
    "Ordena cosas internamente (si es de char es lexicografico)\n",
    "\n",
    "## Hashing \n",
    "\n",
    "(de Rabin Karp)\n",
    "\n",
    "Tener una función de hashing de strings a los enteros inyectiva. Luego si el hash de dos strings son iguales si solo si son iguales.\n",
    "\n"
   ]
  },
  {
   "cell_type": "code",
   "execution_count": null,
   "metadata": {
    "vscode": {
     "languageId": "latex"
    }
   },
   "outputs": [],
   "source": [
    "Si tenemos \n",
    "$$ S = s_0...s_n entonces hash(s)$$\n",
    "$$hash(s) = \\sum_{i = 0}^n s_i\\cdot x^n-i$$"
   ]
  },
  {
   "cell_type": "markdown",
   "metadata": {},
   "source": [
    "## Importante\n",
    "\n",
    "Si se evalua en X mayor que la cantidad de caracteres el hash es inyectivo (es como escribir en base X)\n",
    "\n",
    "Además como los numeros pueden ser gigantes podemos recibir overflow por lo que podemos tomar X primo y sacar modulo P para P > X con 3 primos ( P en 10^9 a 2*10^9)\n",
    "\n",
    "\n",
    "## Hacer operaciones\n",
    "\n",
    "Agregar un caracter a la derecha c a s nos da:\n",
    "\n",
    "Hash(s+c) = XHash(s) + c\n",
    "\n",
    "Agregar un caracter a la izquierda c a s nos da:\n",
    "\n",
    "Hash(s+c) = Hash(s) + cX^|s| (|s| es su largo )\n",
    "\n",
    "(estas operaciones son O(1))\n",
    "## Comparando substrings\n",
    "\n",
    "Haay dos opciones definiendo T[i] = Hash(s[0:i])\n",
    "\n",
    "Se puede precomputar en O(N) (N = |s|)\n",
    "\n",
    "luego el hash de un substring s[i:j) es hash'(S[i:j)) = (T[j]-T[i])*X^(|S|-i)\n",
    "\n",
    "*importante*  esto nos dara el mismo valor para dos substrigs iguales en distintas posiciones por lo que sirve para encontrar coincidencias.\n",
    "\n",
    "\n"
   ]
  }
 ],
 "metadata": {
  "language_info": {
   "name": "python"
  },
  "orig_nbformat": 4
 },
 "nbformat": 4,
 "nbformat_minor": 2
}
